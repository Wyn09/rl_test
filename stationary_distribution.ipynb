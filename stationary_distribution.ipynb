{
 "cells": [
  {
   "cell_type": "code",
   "execution_count": 1,
   "metadata": {},
   "outputs": [],
   "source": [
    "import numpy as np\n",
    "from generate_episode import gen_episode"
   ]
  },
  {
   "cell_type": "code",
   "execution_count": 2,
   "metadata": {},
   "outputs": [],
   "source": [
    "def get_num(item):\n",
    "    return int(item.split(\"_\")[-1])"
   ]
  },
  {
   "cell_type": "code",
   "execution_count": 17,
   "metadata": {},
   "outputs": [
    {
     "name": "stdout",
     "output_type": "stream",
     "text": [
      "0.1111111111111111\n",
      "[0.11104789 0.11132489 0.11128889 0.11107789 0.11075989 0.11142589\n",
      " 0.11100289 0.11089389 0.11117789]\n"
     ]
    }
   ],
   "source": [
    "# 本实例为均匀分布\n",
    "# 3x3 网格环境, 5个action\n",
    "n_acitons = 5\n",
    "grid_edge_length = 3\n",
    "n_states = grid_edge_length ** 2\n",
    "pi = np.zeros(shape=(n_states, n_acitons)) + 0.2\n",
    "episode = gen_episode(pi, 100_0000, grid_edge_length, mode=\"srs\")\n",
    "states = np.zeros(shape=(n_states, ))\n",
    "\n",
    "for trajectory in episode:\n",
    "    s = get_num(trajectory[0])\n",
    "    states[s - 1] += 1\n",
    "s = get_num(trajectory[2])\n",
    "states[s - 1] += 1\n",
    "stationary_distribution = states / states.sum()\n",
    "\n",
    "print(1.0 / n_states)\n",
    "print(stationary_distribution) "
   ]
  },
  {
   "cell_type": "code",
   "execution_count": 18,
   "metadata": {},
   "outputs": [
    {
     "data": {
      "text/plain": [
       "1.0"
      ]
     },
     "execution_count": 18,
     "metadata": {},
     "output_type": "execute_result"
    }
   ],
   "source": [
    "stationary_distribution.sum()"
   ]
  },
  {
   "cell_type": "code",
   "execution_count": null,
   "metadata": {},
   "outputs": [],
   "source": []
  },
  {
   "cell_type": "code",
   "execution_count": null,
   "metadata": {},
   "outputs": [],
   "source": []
  },
  {
   "cell_type": "code",
   "execution_count": null,
   "metadata": {},
   "outputs": [],
   "source": []
  },
  {
   "cell_type": "code",
   "execution_count": null,
   "metadata": {},
   "outputs": [],
   "source": []
  },
  {
   "cell_type": "code",
   "execution_count": null,
   "metadata": {},
   "outputs": [],
   "source": []
  },
  {
   "cell_type": "code",
   "execution_count": null,
   "metadata": {},
   "outputs": [],
   "source": []
  }
 ],
 "metadata": {
  "kernelspec": {
   "display_name": "dev",
   "language": "python",
   "name": "python3"
  },
  "language_info": {
   "codemirror_mode": {
    "name": "ipython",
    "version": 3
   },
   "file_extension": ".py",
   "mimetype": "text/x-python",
   "name": "python",
   "nbconvert_exporter": "python",
   "pygments_lexer": "ipython3",
   "version": "3.10.16"
  }
 },
 "nbformat": 4,
 "nbformat_minor": 2
}
